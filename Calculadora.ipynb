{
 "cells": [
  {
   "cell_type": "markdown",
   "id": "c740710e",
   "metadata": {},
   "source": [
    "# Calculadora"
   ]
  },
  {
   "cell_type": "code",
   "execution_count": 9,
   "id": "dda61932",
   "metadata": {},
   "outputs": [
    {
     "name": "stdout",
     "output_type": "stream",
     "text": [
      "Escolha o tipo de operação:\n",
      "\n",
      " 1 - Soma\n",
      " 2 - Subtração\n",
      " 3 - Multiplicação\n",
      " 4 - Divisão\n",
      "\n",
      "Digite sua opção: 4\n",
      "\n",
      "Digite o primeiro número: 9\n",
      "\n",
      "Digite o segundo número: 2\n",
      "9 / 2 = 4.5\n"
     ]
    }
   ],
   "source": [
    "print(\"Escolha o tipo de operação:\\n\\n 1 - Soma\\n 2 - Subtração\\n 3 - Multiplicação\\n 4 - Divisão\\n\")\n",
    "\n",
    "# Funções que executam as operações\n",
    "def soma(x,y):\n",
    "    return x + y\n",
    "\n",
    "def sub(x,y):\n",
    "    return x - y\n",
    "\n",
    "def mult(x,y):\n",
    "    return x * y\n",
    "\n",
    "def divi(x,y):\n",
    "    return x / y\n",
    "\n",
    "# Variável para armazenar a operação escolhida\n",
    "operacao = input(\"Digite sua opção: \")\n",
    "\n",
    "# Variáveis transformadas em números \n",
    "n1 = int(input(\"\\nDigite o primeiro número: \"))\n",
    "n2 = int(input(\"\\nDigite o segundo número: \"))\n",
    "\n",
    "if operacao == '1':\n",
    "     print(n1, \"+\", n2, \"=\", soma(n1,n2))\n",
    "elif operacao == '2':\n",
    "     print(n1, \"-\", n2, \"=\", sub(n1,n2))\n",
    "elif operacao == '3':\n",
    "     print(n1, \"x\", n2, \"=\", mult(n1,n2))\n",
    "elif operacao == '4':\n",
    "     print(n1, \"/\", n2, \"=\", divi(n1,n2))\n",
    "else: \n",
    "    \"Escolha inválida\""
   ]
  }
 ],
 "metadata": {
  "kernelspec": {
   "display_name": "Python 3 (ipykernel)",
   "language": "python",
   "name": "python3"
  },
  "language_info": {
   "codemirror_mode": {
    "name": "ipython",
    "version": 3
   },
   "file_extension": ".py",
   "mimetype": "text/x-python",
   "name": "python",
   "nbconvert_exporter": "python",
   "pygments_lexer": "ipython3",
   "version": "3.9.13"
  }
 },
 "nbformat": 4,
 "nbformat_minor": 5
}
